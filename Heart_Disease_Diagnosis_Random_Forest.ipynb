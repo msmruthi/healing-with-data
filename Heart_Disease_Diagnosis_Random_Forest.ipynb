{
  "nbformat": 4,
  "nbformat_minor": 0,
  "metadata": {
    "colab": {
      "provenance": []
    },
    "kernelspec": {
      "name": "python3",
      "display_name": "Python 3"
    },
    "language_info": {
      "name": "python"
    }
  },
  "cells": [
    {
      "cell_type": "code",
      "execution_count": 2,
      "metadata": {
        "colab": {
          "base_uri": "https://localhost:8080/"
        },
        "id": "M0-5d0w7fg3S",
        "outputId": "144a1824-f392-42da-b74f-bd80c826b9c4"
      },
      "outputs": [
        {
          "output_type": "stream",
          "name": "stdout",
          "text": [
            "   age  sex  cp  trestbps  chol  fbs  restecg  thalach  exang  oldpeak  slope  \\\n",
            "0   52    1   0       125   212    0        1      168      0      1.0      2   \n",
            "1   53    1   0       140   203    1        0      155      1      3.1      0   \n",
            "2   70    1   0       145   174    0        1      125      1      2.6      0   \n",
            "3   61    1   0       148   203    0        1      161      0      0.0      2   \n",
            "4   62    0   0       138   294    1        1      106      0      1.9      1   \n",
            "\n",
            "   ca  thal  target  \n",
            "0   2     3       0  \n",
            "1   0     3       0  \n",
            "2   0     3       0  \n",
            "3   1     3       0  \n",
            "4   3     2       0  \n"
          ]
        }
      ],
      "source": [
        "import pandas as pd\n",
        "from sklearn.model_selection import train_test_split\n",
        "from sklearn.linear_model import LogisticRegression\n",
        "from sklearn.ensemble import RandomForestClassifier\n",
        "from sklearn.metrics import classification_report, accuracy_score\n",
        "\n",
        "# Load the heart.csv dataset from Colab's content folder\n",
        "file_path = '/content/heart.csv'\n",
        "data = pd.read_csv(file_path)\n",
        "\n",
        "# Display the first few rows of the dataset to inspect\n",
        "print(data.head())"
      ]
    },
    {
      "cell_type": "code",
      "source": [
        "print(\"Number of duplicates:\", data.duplicated().sum())"
      ],
      "metadata": {
        "colab": {
          "base_uri": "https://localhost:8080/"
        },
        "id": "FqfTOEFPbNrs",
        "outputId": "600ea458-7379-4af1-82e6-8e7f75c4017b"
      },
      "execution_count": 3,
      "outputs": [
        {
          "output_type": "stream",
          "name": "stdout",
          "text": [
            "Number of duplicates: 723\n"
          ]
        }
      ]
    },
    {
      "cell_type": "code",
      "source": [
        "data_cleaned = data.drop_duplicates()"
      ],
      "metadata": {
        "id": "JWYRlcEMbRjF"
      },
      "execution_count": 4,
      "outputs": []
    },
    {
      "cell_type": "code",
      "source": [
        "print(\"Number of duplicates after cleaning:\", data_cleaned.duplicated().sum())"
      ],
      "metadata": {
        "colab": {
          "base_uri": "https://localhost:8080/"
        },
        "id": "RhUpXDmYbcYf",
        "outputId": "28710bd8-dd3b-4c51-86fd-637d9c1f62b3"
      },
      "execution_count": 5,
      "outputs": [
        {
          "output_type": "stream",
          "name": "stdout",
          "text": [
            "Number of duplicates after cleaning: 0\n"
          ]
        }
      ]
    },
    {
      "cell_type": "code",
      "source": [
        "print(\"Total number of rows:\", data_cleaned.shape[0])"
      ],
      "metadata": {
        "colab": {
          "base_uri": "https://localhost:8080/"
        },
        "id": "0i1clcGUbkP_",
        "outputId": "c99f8bbe-bf44-46ca-9ada-c3cab5ef1046"
      },
      "execution_count": 6,
      "outputs": [
        {
          "output_type": "stream",
          "name": "stdout",
          "text": [
            "Total number of rows: 302\n"
          ]
        }
      ]
    },
    {
      "cell_type": "code",
      "source": [
        "# Define features (X) and target (y)\n",
        "X = data_cleaned.drop('target', axis=1)\n",
        "y = data_cleaned['target']\n",
        "\n",
        "# Standardizing data\n",
        "from sklearn.preprocessing import StandardScaler\n",
        "\n",
        "scaler = StandardScaler()\n",
        "X = scaler.fit_transform(X)"
      ],
      "metadata": {
        "id": "c2EZdmZ8hjzG"
      },
      "execution_count": 7,
      "outputs": []
    },
    {
      "cell_type": "code",
      "source": [
        "# Split the dataset into training and testing sets\n",
        "X_train, X_test, y_train, y_test = train_test_split(X, y, test_size=0.3, random_state=42)\n",
        "\n",
        "# Logistic Regression Model\n",
        "log_reg_model = LogisticRegression(max_iter=1000)\n",
        "log_reg_model.fit(X_train, y_train)\n",
        "\n",
        "# Make predictions on the test set\n",
        "y_pred_log_reg = log_reg_model.predict(X_test)\n",
        "\n",
        "# Evaluate Logistic Regression performance\n",
        "print(\"Logistic Regression Accuracy Score:\", accuracy_score(y_test, y_pred_log_reg))\n",
        "print(\"\\nLogistic Regression Classification Report:\\n\", classification_report(y_test, y_pred_log_reg))\n",
        "\n",
        "# Random Forest Model\n",
        "rf_model = RandomForestClassifier(n_estimators=100, random_state=42)\n",
        "rf_model.fit(X_train, y_train)\n",
        "\n",
        "# Make predictions on the test set\n",
        "y_pred_rf = rf_model.predict(X_test)\n",
        "\n",
        "# Evaluate Random Forest performance\n",
        "print(\"Random Forest Accuracy Score:\", accuracy_score(y_test, y_pred_rf))\n",
        "print(\"\\nRandom Forest Classification Report:\\n\", classification_report(y_test, y_pred_rf))"
      ],
      "metadata": {
        "colab": {
          "base_uri": "https://localhost:8080/"
        },
        "id": "5ESs8tsqcOXA",
        "outputId": "bc35bb7c-3c90-4ed1-a200-f6c01af4618f"
      },
      "execution_count": 8,
      "outputs": [
        {
          "output_type": "stream",
          "name": "stdout",
          "text": [
            "Logistic Regression Accuracy Score: 0.8241758241758241\n",
            "\n",
            "Logistic Regression Classification Report:\n",
            "               precision    recall  f1-score   support\n",
            "\n",
            "           0       0.88      0.77      0.82        48\n",
            "           1       0.78      0.88      0.83        43\n",
            "\n",
            "    accuracy                           0.82        91\n",
            "   macro avg       0.83      0.83      0.82        91\n",
            "weighted avg       0.83      0.82      0.82        91\n",
            "\n",
            "Random Forest Accuracy Score: 0.8241758241758241\n",
            "\n",
            "Random Forest Classification Report:\n",
            "               precision    recall  f1-score   support\n",
            "\n",
            "           0       0.88      0.77      0.82        48\n",
            "           1       0.78      0.88      0.83        43\n",
            "\n",
            "    accuracy                           0.82        91\n",
            "   macro avg       0.83      0.83      0.82        91\n",
            "weighted avg       0.83      0.82      0.82        91\n",
            "\n"
          ]
        }
      ]
    },
    {
      "cell_type": "code",
      "source": [
        "import matplotlib.pyplot as plt\n",
        "import numpy as np\n",
        "# Feature Importance from Random Forest\n",
        "importances = rf_model.feature_importances_\n",
        "indices = np.argsort(importances)[::-1]  # Sort indices by importance in descending order\n",
        "\n",
        "# Feature Names (if you have them)\n",
        "feature_names = data_cleaned.drop('target', axis=1).columns  # Replace 'target' with your actual column name for the target\n",
        "\n",
        "# Print Feature Importance\n",
        "print(\"Feature Importances:\")\n",
        "for i in range(len(feature_names)):\n",
        "    print(f\"{feature_names[indices[i]]}: {importances[indices[i]]:.4f}\")\n",
        "\n",
        "# Plot Feature Importance\n",
        "plt.figure(figsize=(10, 6))\n",
        "plt.title(\"Feature Importances\")\n",
        "plt.bar(range(len(importances)), importances[indices], align=\"center\")\n",
        "plt.xticks(range(len(importances)), [feature_names[i] for i in indices], rotation=45)\n",
        "plt.xlabel(\"Features\")\n",
        "plt.ylabel(\"Importance\")\n",
        "plt.show()"
      ],
      "metadata": {
        "colab": {
          "base_uri": "https://localhost:8080/",
          "height": 773
        },
        "id": "LBOWMu5M5nQb",
        "outputId": "593bf284-86f1-4eb8-d7a9-9cd1aa924dc6"
      },
      "execution_count": 11,
      "outputs": [
        {
          "output_type": "stream",
          "name": "stdout",
          "text": [
            "Feature Importances:\n",
            "cp: 0.1523\n",
            "thalach: 0.1335\n",
            "oldpeak: 0.1271\n",
            "ca: 0.1031\n",
            "age: 0.0923\n",
            "thal: 0.0850\n",
            "chol: 0.0793\n",
            "trestbps: 0.0728\n",
            "exang: 0.0451\n",
            "slope: 0.0426\n",
            "sex: 0.0310\n",
            "restecg: 0.0255\n",
            "fbs: 0.0103\n"
          ]
        },
        {
          "output_type": "display_data",
          "data": {
            "text/plain": [
              "<Figure size 1000x600 with 1 Axes>"
            ],
            "image/png": "[encoded data removed]"
          },
          "metadata": {}
        }
      ]
    }
  ]
}